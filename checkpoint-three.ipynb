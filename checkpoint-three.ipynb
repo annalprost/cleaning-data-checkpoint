{
 "cells": [
  {
   "cell_type": "markdown",
   "metadata": {
    "azdata_cell_guid": "26037d32-2047-4157-81ef-595916bd66a0"
   },
   "source": [
    "# Checkpoint Three: Cleaning Data\n",
    "\n",
    "Now you are ready to clean your data. Before starting coding, provide the link to your dataset below.\n",
    "\n",
    "My dataset:\n",
    "\n",
    "Import the necessary libraries and create your dataframe(s)."
   ]
  },
  {
   "cell_type": "code",
   "execution_count": 1,
   "metadata": {
    "azdata_cell_guid": "e8adef8e-d0f2-4640-a179-5997f11e82ca"
   },
   "outputs": [
    {
     "data": {
      "text/html": [
       "<div>\n",
       "<style scoped>\n",
       "    .dataframe tbody tr th:only-of-type {\n",
       "        vertical-align: middle;\n",
       "    }\n",
       "\n",
       "    .dataframe tbody tr th {\n",
       "        vertical-align: top;\n",
       "    }\n",
       "\n",
       "    .dataframe thead th {\n",
       "        text-align: right;\n",
       "    }\n",
       "</style>\n",
       "<table border=\"1\" class=\"dataframe\">\n",
       "  <thead>\n",
       "    <tr style=\"text-align: right;\">\n",
       "      <th></th>\n",
       "      <th>CDPHId</th>\n",
       "      <th>ProductName</th>\n",
       "      <th>CSFId</th>\n",
       "      <th>CSF</th>\n",
       "      <th>CompanyId</th>\n",
       "      <th>CompanyName</th>\n",
       "      <th>BrandName</th>\n",
       "      <th>PrimaryCategoryId</th>\n",
       "      <th>PrimaryCategory</th>\n",
       "      <th>SubCategoryId</th>\n",
       "      <th>...</th>\n",
       "      <th>CasNumber</th>\n",
       "      <th>ChemicalId</th>\n",
       "      <th>ChemicalName</th>\n",
       "      <th>InitialDateReported</th>\n",
       "      <th>MostRecentDateReported</th>\n",
       "      <th>DiscontinuedDate</th>\n",
       "      <th>ChemicalCreatedAt</th>\n",
       "      <th>ChemicalUpdatedAt</th>\n",
       "      <th>ChemicalDateRemoved</th>\n",
       "      <th>ChemicalCount</th>\n",
       "    </tr>\n",
       "  </thead>\n",
       "  <tbody>\n",
       "    <tr>\n",
       "      <th>0</th>\n",
       "      <td>2</td>\n",
       "      <td>ULTRA COLOR RICH EXTRA PLUMP LIPSTICK-ALL SHADES</td>\n",
       "      <td>NaN</td>\n",
       "      <td>NaN</td>\n",
       "      <td>4</td>\n",
       "      <td>New Avon LLC</td>\n",
       "      <td>AVON</td>\n",
       "      <td>44</td>\n",
       "      <td>Makeup Products (non-permanent)</td>\n",
       "      <td>53</td>\n",
       "      <td>...</td>\n",
       "      <td>13463-67-7</td>\n",
       "      <td>6</td>\n",
       "      <td>Titanium dioxide</td>\n",
       "      <td>06/17/2009</td>\n",
       "      <td>08/28/2013</td>\n",
       "      <td>02/01/2011</td>\n",
       "      <td>07/09/2009</td>\n",
       "      <td>07/09/2009</td>\n",
       "      <td>NaN</td>\n",
       "      <td>1</td>\n",
       "    </tr>\n",
       "    <tr>\n",
       "      <th>1</th>\n",
       "      <td>3</td>\n",
       "      <td>Glover's Medicated Shampoo</td>\n",
       "      <td>NaN</td>\n",
       "      <td>NaN</td>\n",
       "      <td>338</td>\n",
       "      <td>J. Strickland &amp; Co.</td>\n",
       "      <td>Glover's</td>\n",
       "      <td>18</td>\n",
       "      <td>Hair Care Products (non-coloring)</td>\n",
       "      <td>25</td>\n",
       "      <td>...</td>\n",
       "      <td>65996-92-1</td>\n",
       "      <td>4</td>\n",
       "      <td>Distillates (coal tar)</td>\n",
       "      <td>07/01/2009</td>\n",
       "      <td>07/01/2009</td>\n",
       "      <td>NaN</td>\n",
       "      <td>07/01/2009</td>\n",
       "      <td>07/01/2009</td>\n",
       "      <td>NaN</td>\n",
       "      <td>2</td>\n",
       "    </tr>\n",
       "    <tr>\n",
       "      <th>2</th>\n",
       "      <td>3</td>\n",
       "      <td>Glover's Medicated Shampoo</td>\n",
       "      <td>NaN</td>\n",
       "      <td>NaN</td>\n",
       "      <td>338</td>\n",
       "      <td>J. Strickland &amp; Co.</td>\n",
       "      <td>Glover's</td>\n",
       "      <td>18</td>\n",
       "      <td>Hair Care Products (non-coloring)</td>\n",
       "      <td>25</td>\n",
       "      <td>...</td>\n",
       "      <td>140-67-0</td>\n",
       "      <td>5</td>\n",
       "      <td>Estragole</td>\n",
       "      <td>07/01/2009</td>\n",
       "      <td>07/01/2009</td>\n",
       "      <td>NaN</td>\n",
       "      <td>07/02/2009</td>\n",
       "      <td>07/02/2009</td>\n",
       "      <td>NaN</td>\n",
       "      <td>2</td>\n",
       "    </tr>\n",
       "    <tr>\n",
       "      <th>3</th>\n",
       "      <td>4</td>\n",
       "      <td>PRECISION GLIMMER EYE LINER-ALL SHADES �</td>\n",
       "      <td>NaN</td>\n",
       "      <td>NaN</td>\n",
       "      <td>4</td>\n",
       "      <td>New Avon LLC</td>\n",
       "      <td>AVON</td>\n",
       "      <td>44</td>\n",
       "      <td>Makeup Products (non-permanent)</td>\n",
       "      <td>46</td>\n",
       "      <td>...</td>\n",
       "      <td>13463-67-7</td>\n",
       "      <td>7</td>\n",
       "      <td>Titanium dioxide</td>\n",
       "      <td>07/09/2009</td>\n",
       "      <td>08/28/2013</td>\n",
       "      <td>NaN</td>\n",
       "      <td>07/09/2009</td>\n",
       "      <td>07/09/2009</td>\n",
       "      <td>NaN</td>\n",
       "      <td>1</td>\n",
       "    </tr>\n",
       "    <tr>\n",
       "      <th>4</th>\n",
       "      <td>5</td>\n",
       "      <td>AVON BRILLIANT SHINE LIP GLOSS-ALL SHADES �</td>\n",
       "      <td>NaN</td>\n",
       "      <td>NaN</td>\n",
       "      <td>4</td>\n",
       "      <td>New Avon LLC</td>\n",
       "      <td>AVON</td>\n",
       "      <td>44</td>\n",
       "      <td>Makeup Products (non-permanent)</td>\n",
       "      <td>52</td>\n",
       "      <td>...</td>\n",
       "      <td>13463-67-7</td>\n",
       "      <td>8</td>\n",
       "      <td>Titanium dioxide</td>\n",
       "      <td>07/09/2009</td>\n",
       "      <td>08/28/2013</td>\n",
       "      <td>02/01/2011</td>\n",
       "      <td>07/09/2009</td>\n",
       "      <td>07/09/2009</td>\n",
       "      <td>NaN</td>\n",
       "      <td>1</td>\n",
       "    </tr>\n",
       "  </tbody>\n",
       "</table>\n",
       "<p>5 rows × 22 columns</p>\n",
       "</div>"
      ],
      "text/plain": [
       "   CDPHId                                       ProductName  CSFId  CSF  \\\n",
       "0       2  ULTRA COLOR RICH EXTRA PLUMP LIPSTICK-ALL SHADES    NaN  NaN   \n",
       "1       3                        Glover's Medicated Shampoo    NaN  NaN   \n",
       "2       3                        Glover's Medicated Shampoo    NaN  NaN   \n",
       "3       4          PRECISION GLIMMER EYE LINER-ALL SHADES �    NaN  NaN   \n",
       "4       5       AVON BRILLIANT SHINE LIP GLOSS-ALL SHADES �    NaN  NaN   \n",
       "\n",
       "   CompanyId          CompanyName BrandName  PrimaryCategoryId  \\\n",
       "0          4         New Avon LLC      AVON                 44   \n",
       "1        338  J. Strickland & Co.  Glover's                 18   \n",
       "2        338  J. Strickland & Co.  Glover's                 18   \n",
       "3          4         New Avon LLC      AVON                 44   \n",
       "4          4         New Avon LLC      AVON                 44   \n",
       "\n",
       "                     PrimaryCategory  SubCategoryId  ...   CasNumber  \\\n",
       "0    Makeup Products (non-permanent)             53  ...  13463-67-7   \n",
       "1  Hair Care Products (non-coloring)             25  ...  65996-92-1   \n",
       "2  Hair Care Products (non-coloring)             25  ...    140-67-0   \n",
       "3    Makeup Products (non-permanent)             46  ...  13463-67-7   \n",
       "4    Makeup Products (non-permanent)             52  ...  13463-67-7   \n",
       "\n",
       "   ChemicalId            ChemicalName  InitialDateReported  \\\n",
       "0           6        Titanium dioxide           06/17/2009   \n",
       "1           4  Distillates (coal tar)           07/01/2009   \n",
       "2           5               Estragole           07/01/2009   \n",
       "3           7        Titanium dioxide           07/09/2009   \n",
       "4           8        Titanium dioxide           07/09/2009   \n",
       "\n",
       "  MostRecentDateReported DiscontinuedDate ChemicalCreatedAt ChemicalUpdatedAt  \\\n",
       "0             08/28/2013       02/01/2011        07/09/2009        07/09/2009   \n",
       "1             07/01/2009              NaN        07/01/2009        07/01/2009   \n",
       "2             07/01/2009              NaN        07/02/2009        07/02/2009   \n",
       "3             08/28/2013              NaN        07/09/2009        07/09/2009   \n",
       "4             08/28/2013       02/01/2011        07/09/2009        07/09/2009   \n",
       "\n",
       "  ChemicalDateRemoved ChemicalCount  \n",
       "0                 NaN             1  \n",
       "1                 NaN             2  \n",
       "2                 NaN             2  \n",
       "3                 NaN             1  \n",
       "4                 NaN             1  \n",
       "\n",
       "[5 rows x 22 columns]"
      ]
     },
     "execution_count": 1,
     "metadata": {},
     "output_type": "execute_result"
    }
   ],
   "source": [
    "import pandas as pd\n",
    "import numpy as np\n",
    "import seaborn as sns\n",
    "import matplotlib.pyplot as plt\n",
    "import matplotlib.mlab as mlab\n",
    "df = pd.read_csv(\"chemicals-in-cosmetics.csv\")\n",
    "df.head()"
   ]
  },
  {
   "cell_type": "markdown",
   "metadata": {
    "azdata_cell_guid": "e172475a-c4ee-414a-8367-9965355dbba6"
   },
   "source": [
    "## Missing Data\n",
    "\n",
    "Test your dataset for missing data and handle it as needed. Make notes in the form of code comments as to your thought process."
   ]
  },
  {
   "cell_type": "code",
   "execution_count": 2,
   "metadata": {
    "azdata_cell_guid": "e1dc66ef-e471-4c27-92e7-ee878c106eba"
   },
   "outputs": [
    {
     "data": {
      "text/plain": [
       "<Axes: >"
      ]
     },
     "execution_count": 2,
     "metadata": {},
     "output_type": "execute_result"
    },
    {
     "data": {
      "image/png": "[encoded data removed]",
      "text/plain": [
       "<Figure size 640x480 with 2 Axes>"
      ]
     },
     "metadata": {},
     "output_type": "display_data"
    }
   ],
   "source": [
    "# Frist, I wanted a visual of which data is missing, so I created a heatmap of any missing data:\n",
    "cols = df.columns[:30]\n",
    "colors = ['#000099', '#ffff00']\n",
    "sns.heatmap(df[cols].isnull(), cmap = sns.color_palette(colors))"
   ]
  },
  {
   "cell_type": "code",
   "execution_count": 3,
   "metadata": {},
   "outputs": [
    {
     "name": "stdout",
     "output_type": "stream",
     "text": [
      "CDPHId - 0%\n",
      "ProductName - 0%\n",
      "CSFId - 30%\n",
      "CSF - 30%\n",
      "CompanyId - 0%\n",
      "CompanyName - 0%\n",
      "BrandName - 0%\n",
      "PrimaryCategoryId - 0%\n",
      "PrimaryCategory - 0%\n",
      "SubCategoryId - 0%\n",
      "SubCategory - 0%\n",
      "CasId - 0%\n",
      "CasNumber - 6%\n",
      "ChemicalId - 0%\n",
      "ChemicalName - 0%\n",
      "InitialDateReported - 0%\n",
      "MostRecentDateReported - 0%\n",
      "DiscontinuedDate - 89%\n",
      "ChemicalCreatedAt - 0%\n",
      "ChemicalUpdatedAt - 0%\n",
      "ChemicalDateRemoved - 97%\n",
      "ChemicalCount - 0%\n"
     ]
    }
   ],
   "source": [
    "# Now that I could see the missing data, I wanted the percentages:\n",
    "for col in df.columns:\n",
    "    pct_missing = np.mean(df[col].isnull())\n",
    "    print('{} - {}%'.format(col, round(pct_missing*100)))"
   ]
  },
  {
   "cell_type": "code",
   "execution_count": 4,
   "metadata": {},
   "outputs": [
    {
     "data": {
      "text/plain": [
       "(112870, 22)"
      ]
     },
     "execution_count": 4,
     "metadata": {},
     "output_type": "execute_result"
    }
   ],
   "source": [
    "df.shape"
   ]
  },
  {
   "cell_type": "markdown",
   "metadata": {},
   "source": [
    "The following columns contain missing data:\n",
    "-CSFId (30%)\n",
    "-CSF (30%)\n",
    "-CasNumber (6%)\n",
    "-DiscontinuedDate (89%)\n",
    "-ChemicalDateRemoved (97%)\n",
    "\n",
    "Observations of missing data:\n",
    "-I noticed that the CSFId and CSF missing data are almost identical on the heatmap, which tells me the same rows are missing both of these values\n",
    "-The DiscountuedDate and ChemicalDateRemoved are almost all null, telling me that very few products have been discontinued or had chemicals removed. I do believe the null values in this row are helpful to my analysis, so I will not remove them.\n",
    "-The CasNumber missing data is only 6%, and I can still identify the chemical by its name, so I will keep these rows.\n",
    "\n",
    "-I will fill each missing value in the CasNumber, ChemicalDateRemoved and DiscontinuedDate with MISSING, since this data is relevant to my analysis. \n",
    "-I will remove the CSFId and CSF column data because the color/scent/flavor ID number and name is not relevant to my analysis."
   ]
  },
  {
   "cell_type": "code",
   "execution_count": 5,
   "metadata": {},
   "outputs": [
    {
     "data": {
      "text/plain": [
       "False    106581\n",
       "True       6289\n",
       "Name: CasNumber, dtype: int64"
      ]
     },
     "execution_count": 5,
     "metadata": {},
     "output_type": "execute_result"
    }
   ],
   "source": [
    "df['CasNumber'].isnull().value_counts()"
   ]
  },
  {
   "cell_type": "code",
   "execution_count": 6,
   "metadata": {},
   "outputs": [],
   "source": [
    "df = df.drop(columns=['CSFId', 'CSF'])"
   ]
  },
  {
   "cell_type": "code",
   "execution_count": 7,
   "metadata": {},
   "outputs": [],
   "source": [
    "df['CasNumber'] = df['CasNumber'].fillna(\"MISSING\")"
   ]
  },
  {
   "cell_type": "code",
   "execution_count": 8,
   "metadata": {},
   "outputs": [],
   "source": [
    "df['DiscontinuedDate'] = df['DiscontinuedDate'].fillna(\"MISSING\")"
   ]
  },
  {
   "cell_type": "code",
   "execution_count": 9,
   "metadata": {},
   "outputs": [],
   "source": [
    "df['ChemicalDateRemoved'] = df['ChemicalDateRemoved'].fillna(\"MISSING\")"
   ]
  },
  {
   "cell_type": "code",
   "execution_count": 10,
   "metadata": {},
   "outputs": [
    {
     "name": "stdout",
     "output_type": "stream",
     "text": [
      "CDPHId - 0%\n",
      "ProductName - 0%\n",
      "CompanyId - 0%\n",
      "CompanyName - 0%\n",
      "BrandName - 0%\n",
      "PrimaryCategoryId - 0%\n",
      "PrimaryCategory - 0%\n",
      "SubCategoryId - 0%\n",
      "SubCategory - 0%\n",
      "CasId - 0%\n",
      "CasNumber - 0%\n",
      "ChemicalId - 0%\n",
      "ChemicalName - 0%\n",
      "InitialDateReported - 0%\n",
      "MostRecentDateReported - 0%\n",
      "DiscontinuedDate - 0%\n",
      "ChemicalCreatedAt - 0%\n",
      "ChemicalUpdatedAt - 0%\n",
      "ChemicalDateRemoved - 0%\n",
      "ChemicalCount - 0%\n"
     ]
    }
   ],
   "source": [
    "#I wanted to make sure all Null values were filled:\n",
    "for col in df.columns:\n",
    "    pct_missing = np.mean(df[col].isnull())\n",
    "    print('{} - {}%'.format(col, round(pct_missing*100)))"
   ]
  },
  {
   "cell_type": "code",
   "execution_count": 11,
   "metadata": {},
   "outputs": [
    {
     "data": {
      "text/plain": [
       "(112870, 20)"
      ]
     },
     "execution_count": 11,
     "metadata": {},
     "output_type": "execute_result"
    }
   ],
   "source": [
    "df.shape"
   ]
  },
  {
   "cell_type": "code",
   "execution_count": 39,
   "metadata": {},
   "outputs": [
    {
     "data": {
      "text/html": [
       "<div>\n",
       "<style scoped>\n",
       "    .dataframe tbody tr th:only-of-type {\n",
       "        vertical-align: middle;\n",
       "    }\n",
       "\n",
       "    .dataframe tbody tr th {\n",
       "        vertical-align: top;\n",
       "    }\n",
       "\n",
       "    .dataframe thead th {\n",
       "        text-align: right;\n",
       "    }\n",
       "</style>\n",
       "<table border=\"1\" class=\"dataframe\">\n",
       "  <thead>\n",
       "    <tr style=\"text-align: right;\">\n",
       "      <th></th>\n",
       "      <th>CDPHId</th>\n",
       "      <th>ProductName</th>\n",
       "      <th>CompanyId</th>\n",
       "      <th>CompanyName</th>\n",
       "      <th>BrandName</th>\n",
       "      <th>PrimaryCategoryId</th>\n",
       "      <th>PrimaryCategory</th>\n",
       "      <th>SubCategoryId</th>\n",
       "      <th>SubCategory</th>\n",
       "      <th>CasId</th>\n",
       "      <th>CasNumber</th>\n",
       "      <th>ChemicalId</th>\n",
       "      <th>ChemicalName</th>\n",
       "      <th>InitialDateReported</th>\n",
       "      <th>MostRecentDateReported</th>\n",
       "      <th>DiscontinuedDate</th>\n",
       "      <th>ChemicalCreatedAt</th>\n",
       "      <th>ChemicalUpdatedAt</th>\n",
       "      <th>ChemicalDateRemoved</th>\n",
       "      <th>ChemicalCount</th>\n",
       "    </tr>\n",
       "  </thead>\n",
       "  <tbody>\n",
       "    <tr>\n",
       "      <th>0</th>\n",
       "      <td>2</td>\n",
       "      <td>ultra color rich extra plump lipstick-all shades</td>\n",
       "      <td>4</td>\n",
       "      <td>new avon llc</td>\n",
       "      <td>avon</td>\n",
       "      <td>44</td>\n",
       "      <td>Makeup Products (non-permanent)</td>\n",
       "      <td>53</td>\n",
       "      <td>Lip Color - Lipsticks, Liners, and Pencils</td>\n",
       "      <td>656</td>\n",
       "      <td>13463-67-7</td>\n",
       "      <td>6</td>\n",
       "      <td>titanium dioxide</td>\n",
       "      <td>06/17/2009</td>\n",
       "      <td>08/28/2013</td>\n",
       "      <td>02/01/2011</td>\n",
       "      <td>07/09/2009</td>\n",
       "      <td>07/09/2009</td>\n",
       "      <td>MISSING</td>\n",
       "      <td>1</td>\n",
       "    </tr>\n",
       "    <tr>\n",
       "      <th>1</th>\n",
       "      <td>3</td>\n",
       "      <td>glover's medicated shampoo</td>\n",
       "      <td>338</td>\n",
       "      <td>j. strickland &amp; co.</td>\n",
       "      <td>glover's</td>\n",
       "      <td>18</td>\n",
       "      <td>Hair Care Products (non-coloring)</td>\n",
       "      <td>25</td>\n",
       "      <td>Hair Shampoos (making a cosmetic claim)</td>\n",
       "      <td>889</td>\n",
       "      <td>65996-92-1</td>\n",
       "      <td>4</td>\n",
       "      <td>distillates (coal tar)</td>\n",
       "      <td>07/01/2009</td>\n",
       "      <td>07/01/2009</td>\n",
       "      <td>MISSING</td>\n",
       "      <td>07/01/2009</td>\n",
       "      <td>07/01/2009</td>\n",
       "      <td>MISSING</td>\n",
       "      <td>2</td>\n",
       "    </tr>\n",
       "    <tr>\n",
       "      <th>2</th>\n",
       "      <td>3</td>\n",
       "      <td>glover's medicated shampoo</td>\n",
       "      <td>338</td>\n",
       "      <td>j. strickland &amp; co.</td>\n",
       "      <td>glover's</td>\n",
       "      <td>18</td>\n",
       "      <td>Hair Care Products (non-coloring)</td>\n",
       "      <td>25</td>\n",
       "      <td>Hair Shampoos (making a cosmetic claim)</td>\n",
       "      <td>293</td>\n",
       "      <td>140-67-0</td>\n",
       "      <td>5</td>\n",
       "      <td>estragole</td>\n",
       "      <td>07/01/2009</td>\n",
       "      <td>07/01/2009</td>\n",
       "      <td>MISSING</td>\n",
       "      <td>07/02/2009</td>\n",
       "      <td>07/02/2009</td>\n",
       "      <td>MISSING</td>\n",
       "      <td>2</td>\n",
       "    </tr>\n",
       "    <tr>\n",
       "      <th>3</th>\n",
       "      <td>4</td>\n",
       "      <td>precision glimmer eye liner-all shades �</td>\n",
       "      <td>4</td>\n",
       "      <td>new avon llc</td>\n",
       "      <td>avon</td>\n",
       "      <td>44</td>\n",
       "      <td>Makeup Products (non-permanent)</td>\n",
       "      <td>46</td>\n",
       "      <td>Eyeliner/Eyebrow Pencils</td>\n",
       "      <td>656</td>\n",
       "      <td>13463-67-7</td>\n",
       "      <td>7</td>\n",
       "      <td>titanium dioxide</td>\n",
       "      <td>07/09/2009</td>\n",
       "      <td>08/28/2013</td>\n",
       "      <td>MISSING</td>\n",
       "      <td>07/09/2009</td>\n",
       "      <td>07/09/2009</td>\n",
       "      <td>MISSING</td>\n",
       "      <td>1</td>\n",
       "    </tr>\n",
       "    <tr>\n",
       "      <th>4</th>\n",
       "      <td>5</td>\n",
       "      <td>avon brilliant shine lip gloss-all shades �</td>\n",
       "      <td>4</td>\n",
       "      <td>new avon llc</td>\n",
       "      <td>avon</td>\n",
       "      <td>44</td>\n",
       "      <td>Makeup Products (non-permanent)</td>\n",
       "      <td>52</td>\n",
       "      <td>Lip Gloss/Shine</td>\n",
       "      <td>656</td>\n",
       "      <td>13463-67-7</td>\n",
       "      <td>8</td>\n",
       "      <td>titanium dioxide</td>\n",
       "      <td>07/09/2009</td>\n",
       "      <td>08/28/2013</td>\n",
       "      <td>02/01/2011</td>\n",
       "      <td>07/09/2009</td>\n",
       "      <td>07/09/2009</td>\n",
       "      <td>MISSING</td>\n",
       "      <td>1</td>\n",
       "    </tr>\n",
       "  </tbody>\n",
       "</table>\n",
       "</div>"
      ],
      "text/plain": [
       "   CDPHId                                       ProductName  CompanyId  \\\n",
       "0       2  ultra color rich extra plump lipstick-all shades          4   \n",
       "1       3                        glover's medicated shampoo        338   \n",
       "2       3                        glover's medicated shampoo        338   \n",
       "3       4          precision glimmer eye liner-all shades �          4   \n",
       "4       5       avon brilliant shine lip gloss-all shades �          4   \n",
       "\n",
       "           CompanyName BrandName  PrimaryCategoryId  \\\n",
       "0         new avon llc      avon                 44   \n",
       "1  j. strickland & co.  glover's                 18   \n",
       "2  j. strickland & co.  glover's                 18   \n",
       "3         new avon llc      avon                 44   \n",
       "4         new avon llc      avon                 44   \n",
       "\n",
       "                     PrimaryCategory  SubCategoryId  \\\n",
       "0    Makeup Products (non-permanent)             53   \n",
       "1  Hair Care Products (non-coloring)             25   \n",
       "2  Hair Care Products (non-coloring)             25   \n",
       "3    Makeup Products (non-permanent)             46   \n",
       "4    Makeup Products (non-permanent)             52   \n",
       "\n",
       "                                  SubCategory  CasId   CasNumber  ChemicalId  \\\n",
       "0  Lip Color - Lipsticks, Liners, and Pencils    656  13463-67-7           6   \n",
       "1    Hair Shampoos (making a cosmetic claim)     889  65996-92-1           4   \n",
       "2    Hair Shampoos (making a cosmetic claim)     293    140-67-0           5   \n",
       "3                    Eyeliner/Eyebrow Pencils    656  13463-67-7           7   \n",
       "4                             Lip Gloss/Shine    656  13463-67-7           8   \n",
       "\n",
       "             ChemicalName InitialDateReported MostRecentDateReported  \\\n",
       "0        titanium dioxide          06/17/2009             08/28/2013   \n",
       "1  distillates (coal tar)          07/01/2009             07/01/2009   \n",
       "2               estragole          07/01/2009             07/01/2009   \n",
       "3        titanium dioxide          07/09/2009             08/28/2013   \n",
       "4        titanium dioxide          07/09/2009             08/28/2013   \n",
       "\n",
       "  DiscontinuedDate ChemicalCreatedAt ChemicalUpdatedAt ChemicalDateRemoved  \\\n",
       "0       02/01/2011        07/09/2009        07/09/2009             MISSING   \n",
       "1          MISSING        07/01/2009        07/01/2009             MISSING   \n",
       "2          MISSING        07/02/2009        07/02/2009             MISSING   \n",
       "3          MISSING        07/09/2009        07/09/2009             MISSING   \n",
       "4       02/01/2011        07/09/2009        07/09/2009             MISSING   \n",
       "\n",
       "   ChemicalCount  \n",
       "0              1  \n",
       "1              2  \n",
       "2              2  \n",
       "3              1  \n",
       "4              1  "
      ]
     },
     "execution_count": 39,
     "metadata": {},
     "output_type": "execute_result"
    }
   ],
   "source": [
    "df.head()"
   ]
  },
  {
   "cell_type": "markdown",
   "metadata": {
    "azdata_cell_guid": "1233f543-e9a0-4f78-96f5-d7536554102e"
   },
   "source": [
    "## Irregular Data\n",
    "\n",
    "Detect outliers in your dataset and handle them as needed. Use code comments to make notes about your thought process."
   ]
  },
  {
   "cell_type": "code",
   "execution_count": 12,
   "metadata": {
    "azdata_cell_guid": "efed50ae-16f0-471d-98e2-632553a74c12"
   },
   "outputs": [
    {
     "data": {
      "text/plain": [
       "array([[<Axes: title={'center': 'CDPHId'}>,\n",
       "        <Axes: title={'center': 'CompanyId'}>,\n",
       "        <Axes: title={'center': 'PrimaryCategoryId'}>],\n",
       "       [<Axes: title={'center': 'SubCategoryId'}>,\n",
       "        <Axes: title={'center': 'CasId'}>,\n",
       "        <Axes: title={'center': 'ChemicalId'}>],\n",
       "       [<Axes: title={'center': 'ChemicalCount'}>, <Axes: >, <Axes: >]],\n",
       "      dtype=object)"
      ]
     },
     "execution_count": 12,
     "metadata": {},
     "output_type": "execute_result"
    },
    {
     "data": {
      "image/png": "[encoded data removed]",
      "text/plain": [
       "<Figure size 640x480 with 9 Axes>"
      ]
     },
     "metadata": {},
     "output_type": "display_data"
    }
   ],
   "source": [
    "#I'm using histrogrames of all the data for a quick overview of any potential outliers and a visual of each column's values :\n",
    "df.hist(bins=100)"
   ]
  },
  {
   "cell_type": "code",
   "execution_count": 13,
   "metadata": {},
   "outputs": [
    {
     "data": {
      "text/plain": [
       "<Axes: >"
      ]
     },
     "execution_count": 13,
     "metadata": {},
     "output_type": "execute_result"
    },
    {
     "data": {
      "image/png": "[encoded data removed]",
      "text/plain": [
       "<Figure size 640x480 with 1 Axes>"
      ]
     },
     "metadata": {},
     "output_type": "display_data"
    }
   ],
   "source": [
    "#I wanted a bigger histogram of the PrimaryCategoryId column becuase it looked like one value contained a significant amount more than the others.\n",
    "df['PrimaryCategoryId'].hist(bins=100)"
   ]
  },
  {
   "cell_type": "code",
   "execution_count": 14,
   "metadata": {},
   "outputs": [
    {
     "data": {
      "text/plain": [
       "<Axes: >"
      ]
     },
     "execution_count": 14,
     "metadata": {},
     "output_type": "execute_result"
    },
    {
     "data": {
      "image/png": "[encoded data removed]",
      "text/plain": [
       "<Figure size 640x480 with 1 Axes>"
      ]
     },
     "metadata": {},
     "output_type": "display_data"
    }
   ],
   "source": [
    "#I wanted to see exactly which value turned up more than the others.\n",
    "df['PrimaryCategoryId'].value_counts().plot.bar()\n"
   ]
  },
  {
   "cell_type": "code",
   "execution_count": 15,
   "metadata": {},
   "outputs": [
    {
     "data": {
      "text/plain": [
       "44     74524\n",
       "59     15102\n",
       "90      7613\n",
       "106     4939\n",
       "6       3417\n",
       "32      2053\n",
       "18      1595\n",
       "111     1477\n",
       "74       753\n",
       "12       644\n",
       "68       482\n",
       "82       222\n",
       "1         49\n",
       "Name: PrimaryCategoryId, dtype: int64"
      ]
     },
     "execution_count": 15,
     "metadata": {},
     "output_type": "execute_result"
    }
   ],
   "source": [
    "# I wanted a list of values in PrimaryCategoryId column with their frequency in numerical form.\n",
    "df['PrimaryCategoryId'].value_counts()"
   ]
  },
  {
   "cell_type": "code",
   "execution_count": 16,
   "metadata": {},
   "outputs": [
    {
     "data": {
      "text/plain": [
       "count       13.000000\n",
       "mean      8682.307692\n",
       "std      20219.953855\n",
       "min         49.000000\n",
       "25%        644.000000\n",
       "50%       1595.000000\n",
       "75%       4939.000000\n",
       "max      74524.000000\n",
       "Name: PrimaryCategoryId, dtype: float64"
      ]
     },
     "execution_count": 16,
     "metadata": {},
     "output_type": "execute_result"
    }
   ],
   "source": [
    "#I wanted to determine is there were any outliers that appeared significantly more than the others.\n",
    "df['PrimaryCategoryId'].value_counts().describe()\n",
    "#IQR = 4305\n",
    "#Upper fence: 11396.5\n",
    "#Lower fence: -5823.5"
   ]
  },
  {
   "cell_type": "markdown",
   "metadata": {},
   "source": [
    "The PrimaryCategoryId of 44 (Makeup Products) and 59 (Nail Products) occur significanlty more than the other categories."
   ]
  },
  {
   "cell_type": "code",
   "execution_count": 17,
   "metadata": {},
   "outputs": [
    {
     "data": {
      "text/plain": [
       "<Axes: >"
      ]
     },
     "execution_count": 17,
     "metadata": {},
     "output_type": "execute_result"
    },
    {
     "data": {
      "image/png": "[encoded data removed]",
      "text/plain": [
       "<Figure size 640x480 with 1 Axes>"
      ]
     },
     "metadata": {},
     "output_type": "display_data"
    }
   ],
   "source": [
    "#I wanted a bigger histogram of the ChemicalCount column becuase it looked like one value contained a significant amount more than the others.\n",
    "\n",
    "df['ChemicalCount'].hist(bins=100)"
   ]
  },
  {
   "cell_type": "code",
   "execution_count": 18,
   "metadata": {},
   "outputs": [
    {
     "data": {
      "text/plain": [
       "<Axes: >"
      ]
     },
     "execution_count": 18,
     "metadata": {},
     "output_type": "execute_result"
    },
    {
     "data": {
      "image/png": "[encoded data removed]",
      "text/plain": [
       "<Figure size 640x480 with 1 Axes>"
      ]
     },
     "metadata": {},
     "output_type": "display_data"
    }
   ],
   "source": [
    "# I wanted to put the counts in order.\n",
    "df['ChemicalCount'].value_counts().plot.bar()\n"
   ]
  },
  {
   "cell_type": "code",
   "execution_count": 19,
   "metadata": {},
   "outputs": [
    {
     "data": {
      "text/plain": [
       "1    86366\n",
       "2    20738\n",
       "3     3273\n",
       "4     1421\n",
       "0      857\n",
       "5      105\n",
       "8       41\n",
       "7       36\n",
       "6       24\n",
       "9        9\n",
       "Name: ChemicalCount, dtype: int64"
      ]
     },
     "execution_count": 19,
     "metadata": {},
     "output_type": "execute_result"
    }
   ],
   "source": [
    "# I wanted a list of values in ChemicalCount column with their frequency in numerical form.\n",
    "\n",
    "df['ChemicalCount'].value_counts()"
   ]
  },
  {
   "cell_type": "code",
   "execution_count": 20,
   "metadata": {},
   "outputs": [
    {
     "data": {
      "text/plain": [
       "count       10.000000\n",
       "mean     11287.000000\n",
       "std      27138.876968\n",
       "min          9.000000\n",
       "25%         37.250000\n",
       "50%        481.000000\n",
       "75%       2810.000000\n",
       "max      86366.000000\n",
       "Name: ChemicalCount, dtype: float64"
      ]
     },
     "execution_count": 20,
     "metadata": {},
     "output_type": "execute_result"
    }
   ],
   "source": [
    "#I wanted to determine is there were any outliers that appeared significantly more than the others.\n",
    "df['ChemicalCount'].value_counts().describe()\n",
    "#IQR = 2772.75\n",
    "#Upper fence: 6969.125\n",
    "#Lower fence: -4121.875"
   ]
  },
  {
   "cell_type": "markdown",
   "metadata": {},
   "source": [
    "The ChemicalCounts 1 and 2 occur significantly more than the other counts."
   ]
  },
  {
   "cell_type": "code",
   "execution_count": 21,
   "metadata": {},
   "outputs": [
    {
     "data": {
      "text/plain": [
       "<Axes: >"
      ]
     },
     "execution_count": 21,
     "metadata": {},
     "output_type": "execute_result"
    },
    {
     "data": {
      "image/png": "[encoded data removed]",
      "text/plain": [
       "<Figure size 640x480 with 1 Axes>"
      ]
     },
     "metadata": {},
     "output_type": "display_data"
    }
   ],
   "source": [
    "#I wanted a quick visual of the CompanyId column.\n",
    "df['CompanyId'].hist(bins=100)"
   ]
  },
  {
   "cell_type": "code",
   "execution_count": 22,
   "metadata": {},
   "outputs": [
    {
     "data": {
      "text/plain": [
       "<Axes: >"
      ]
     },
     "execution_count": 22,
     "metadata": {},
     "output_type": "execute_result"
    },
    {
     "data": {
      "image/png": "[encoded data removed]",
      "text/plain": [
       "<Figure size 640x480 with 1 Axes>"
      ]
     },
     "metadata": {},
     "output_type": "display_data"
    }
   ],
   "source": [
    "#I wanted to ensure there were no outliers in this column.\n",
    "sns.boxplot(df['CompanyId'])"
   ]
  },
  {
   "cell_type": "code",
   "execution_count": 23,
   "metadata": {},
   "outputs": [
    {
     "data": {
      "text/plain": [
       "67      5734\n",
       "171     5162\n",
       "198     4825\n",
       "23      4341\n",
       "84      3828\n",
       "        ... \n",
       "406        1\n",
       "413        1\n",
       "416        1\n",
       "424        1\n",
       "1358       1\n",
       "Name: CompanyId, Length: 630, dtype: int64"
      ]
     },
     "execution_count": 23,
     "metadata": {},
     "output_type": "execute_result"
    }
   ],
   "source": [
    "df['CompanyId'].value_counts()"
   ]
  },
  {
   "cell_type": "markdown",
   "metadata": {
    "azdata_cell_guid": "6f5b8ee0-bab3-44bc-958a-67d1e4c0407f"
   },
   "source": [
    "## Unnecessary Data\n",
    "\n",
    "Look for the different types of unnecessary data in your dataset and address it as needed. Make sure to use code comments to illustrate your thought process."
   ]
  },
  {
   "cell_type": "code",
   "execution_count": 24,
   "metadata": {},
   "outputs": [
    {
     "name": "stdout",
     "output_type": "stream",
     "text": [
      "ChemicalDateRemoved: 97.41207%\n",
      "MISSING       109949\n",
      "12/14/2009       159\n",
      "12/05/2103       114\n",
      "10/13/2009       111\n",
      "10/06/2009       110\n",
      "               ...  \n",
      "12/22/2009         1\n",
      "05/19/2015         1\n",
      "03/27/2011         1\n",
      "08/30/2011         1\n",
      "01/10/2020         1\n",
      "Name: ChemicalDateRemoved, Length: 515, dtype: int64\n",
      "\n"
     ]
    }
   ],
   "source": [
    "#Finding columns that have more than 95% of missing data. Since the ChemicalDateRemoved column contains mising values that we need, this data is still necessary.\n",
    "num_rows = len(df.index)\n",
    "low_information_cols = [] #\n",
    "\n",
    "for col in df.columns:\n",
    "    cnts = df[col].value_counts(dropna=False)\n",
    "    top_pct = (cnts/num_rows).iloc[0]\n",
    "    \n",
    "    if top_pct > 0.95:\n",
    "        low_information_cols.append(col)\n",
    "        print('{0}: {1:.5f}%'.format(col, top_pct*100))\n",
    "        print(cnts)\n",
    "        print()"
   ]
  },
  {
   "cell_type": "code",
   "execution_count": 25,
   "metadata": {},
   "outputs": [
    {
     "data": {
      "text/plain": [
       "(112870, 20)"
      ]
     },
     "execution_count": 25,
     "metadata": {},
     "output_type": "execute_result"
    }
   ],
   "source": [
    "#Checking the shape of data before looking for duplicates.\n",
    "df.shape"
   ]
  },
  {
   "cell_type": "code",
   "execution_count": 26,
   "metadata": {
    "azdata_cell_guid": "e788a239-2fbf-41de-9bd3-19e52e3b187c"
   },
   "outputs": [
    {
     "data": {
      "text/plain": [
       "False    63215\n",
       "True     49655\n",
       "dtype: int64"
      ]
     },
     "execution_count": 26,
     "metadata": {},
     "output_type": "execute_result"
    }
   ],
   "source": [
    "#counting the duplicates.\n",
    "df.duplicated().value_counts()"
   ]
  },
  {
   "cell_type": "code",
   "execution_count": 27,
   "metadata": {},
   "outputs": [
    {
     "data": {
      "text/html": [
       "<div>\n",
       "<style scoped>\n",
       "    .dataframe tbody tr th:only-of-type {\n",
       "        vertical-align: middle;\n",
       "    }\n",
       "\n",
       "    .dataframe tbody tr th {\n",
       "        vertical-align: top;\n",
       "    }\n",
       "\n",
       "    .dataframe thead th {\n",
       "        text-align: right;\n",
       "    }\n",
       "</style>\n",
       "<table border=\"1\" class=\"dataframe\">\n",
       "  <thead>\n",
       "    <tr style=\"text-align: right;\">\n",
       "      <th></th>\n",
       "      <th>CDPHId</th>\n",
       "      <th>ProductName</th>\n",
       "      <th>CompanyId</th>\n",
       "      <th>CompanyName</th>\n",
       "      <th>BrandName</th>\n",
       "      <th>PrimaryCategoryId</th>\n",
       "      <th>PrimaryCategory</th>\n",
       "      <th>SubCategoryId</th>\n",
       "      <th>SubCategory</th>\n",
       "      <th>CasId</th>\n",
       "      <th>CasNumber</th>\n",
       "      <th>ChemicalId</th>\n",
       "      <th>ChemicalName</th>\n",
       "      <th>InitialDateReported</th>\n",
       "      <th>MostRecentDateReported</th>\n",
       "      <th>DiscontinuedDate</th>\n",
       "      <th>ChemicalCreatedAt</th>\n",
       "      <th>ChemicalUpdatedAt</th>\n",
       "      <th>ChemicalDateRemoved</th>\n",
       "      <th>ChemicalCount</th>\n",
       "    </tr>\n",
       "  </thead>\n",
       "  <tbody>\n",
       "    <tr>\n",
       "      <th>6</th>\n",
       "      <td>7</td>\n",
       "      <td>ABSOLUTE Precision Color Powder System - All S...</td>\n",
       "      <td>11</td>\n",
       "      <td>OPI PRODUCTS INC.</td>\n",
       "      <td>OPI</td>\n",
       "      <td>59</td>\n",
       "      <td>Nail Products</td>\n",
       "      <td>60</td>\n",
       "      <td>Artificial Nails and Related Products</td>\n",
       "      <td>656</td>\n",
       "      <td>13463-67-7</td>\n",
       "      <td>12178</td>\n",
       "      <td>Titanium dioxide</td>\n",
       "      <td>07/13/2009</td>\n",
       "      <td>12/30/2010</td>\n",
       "      <td>MISSING</td>\n",
       "      <td>12/04/2009</td>\n",
       "      <td>12/04/2009</td>\n",
       "      <td>MISSING</td>\n",
       "      <td>1</td>\n",
       "    </tr>\n",
       "    <tr>\n",
       "      <th>7</th>\n",
       "      <td>7</td>\n",
       "      <td>ABSOLUTE Precision Color Powder System - All S...</td>\n",
       "      <td>11</td>\n",
       "      <td>OPI PRODUCTS INC.</td>\n",
       "      <td>OPI</td>\n",
       "      <td>59</td>\n",
       "      <td>Nail Products</td>\n",
       "      <td>60</td>\n",
       "      <td>Artificial Nails and Related Products</td>\n",
       "      <td>656</td>\n",
       "      <td>13463-67-7</td>\n",
       "      <td>12178</td>\n",
       "      <td>Titanium dioxide</td>\n",
       "      <td>07/13/2009</td>\n",
       "      <td>12/30/2010</td>\n",
       "      <td>MISSING</td>\n",
       "      <td>12/04/2009</td>\n",
       "      <td>12/04/2009</td>\n",
       "      <td>MISSING</td>\n",
       "      <td>1</td>\n",
       "    </tr>\n",
       "    <tr>\n",
       "      <th>8</th>\n",
       "      <td>7</td>\n",
       "      <td>ABSOLUTE Precision Color Powder System - All S...</td>\n",
       "      <td>11</td>\n",
       "      <td>OPI PRODUCTS INC.</td>\n",
       "      <td>OPI</td>\n",
       "      <td>59</td>\n",
       "      <td>Nail Products</td>\n",
       "      <td>60</td>\n",
       "      <td>Artificial Nails and Related Products</td>\n",
       "      <td>656</td>\n",
       "      <td>13463-67-7</td>\n",
       "      <td>12178</td>\n",
       "      <td>Titanium dioxide</td>\n",
       "      <td>07/13/2009</td>\n",
       "      <td>12/30/2010</td>\n",
       "      <td>MISSING</td>\n",
       "      <td>12/04/2009</td>\n",
       "      <td>12/04/2009</td>\n",
       "      <td>MISSING</td>\n",
       "      <td>1</td>\n",
       "    </tr>\n",
       "    <tr>\n",
       "      <th>12</th>\n",
       "      <td>12</td>\n",
       "      <td>ABSOLUTE FX Chromatones Precision Color Powders</td>\n",
       "      <td>11</td>\n",
       "      <td>OPI PRODUCTS INC.</td>\n",
       "      <td>OPI</td>\n",
       "      <td>59</td>\n",
       "      <td>Nail Products</td>\n",
       "      <td>60</td>\n",
       "      <td>Artificial Nails and Related Products</td>\n",
       "      <td>656</td>\n",
       "      <td>13463-67-7</td>\n",
       "      <td>17917</td>\n",
       "      <td>Titanium dioxide</td>\n",
       "      <td>07/14/2009</td>\n",
       "      <td>12/30/2010</td>\n",
       "      <td>MISSING</td>\n",
       "      <td>06/09/2010</td>\n",
       "      <td>06/09/2010</td>\n",
       "      <td>MISSING</td>\n",
       "      <td>1</td>\n",
       "    </tr>\n",
       "    <tr>\n",
       "      <th>13</th>\n",
       "      <td>12</td>\n",
       "      <td>ABSOLUTE FX Chromatones Precision Color Powders</td>\n",
       "      <td>11</td>\n",
       "      <td>OPI PRODUCTS INC.</td>\n",
       "      <td>OPI</td>\n",
       "      <td>59</td>\n",
       "      <td>Nail Products</td>\n",
       "      <td>60</td>\n",
       "      <td>Artificial Nails and Related Products</td>\n",
       "      <td>656</td>\n",
       "      <td>13463-67-7</td>\n",
       "      <td>17917</td>\n",
       "      <td>Titanium dioxide</td>\n",
       "      <td>07/14/2009</td>\n",
       "      <td>12/30/2010</td>\n",
       "      <td>MISSING</td>\n",
       "      <td>06/09/2010</td>\n",
       "      <td>06/09/2010</td>\n",
       "      <td>MISSING</td>\n",
       "      <td>1</td>\n",
       "    </tr>\n",
       "    <tr>\n",
       "      <th>...</th>\n",
       "      <td>...</td>\n",
       "      <td>...</td>\n",
       "      <td>...</td>\n",
       "      <td>...</td>\n",
       "      <td>...</td>\n",
       "      <td>...</td>\n",
       "      <td>...</td>\n",
       "      <td>...</td>\n",
       "      <td>...</td>\n",
       "      <td>...</td>\n",
       "      <td>...</td>\n",
       "      <td>...</td>\n",
       "      <td>...</td>\n",
       "      <td>...</td>\n",
       "      <td>...</td>\n",
       "      <td>...</td>\n",
       "      <td>...</td>\n",
       "      <td>...</td>\n",
       "      <td>...</td>\n",
       "      <td>...</td>\n",
       "    </tr>\n",
       "    <tr>\n",
       "      <th>112865</th>\n",
       "      <td>41032</td>\n",
       "      <td>Rainforest of the Sea� foil finger paints shad...</td>\n",
       "      <td>224</td>\n",
       "      <td>Tarte Cosmetics</td>\n",
       "      <td>tarte</td>\n",
       "      <td>44</td>\n",
       "      <td>Makeup Products (non-permanent)</td>\n",
       "      <td>48</td>\n",
       "      <td>Eye Shadow</td>\n",
       "      <td>656</td>\n",
       "      <td>13463-67-7</td>\n",
       "      <td>67171</td>\n",
       "      <td>Titanium dioxide</td>\n",
       "      <td>02/10/2020</td>\n",
       "      <td>02/10/2020</td>\n",
       "      <td>MISSING</td>\n",
       "      <td>02/10/2020</td>\n",
       "      <td>02/10/2020</td>\n",
       "      <td>MISSING</td>\n",
       "      <td>1</td>\n",
       "    </tr>\n",
       "    <tr>\n",
       "      <th>112866</th>\n",
       "      <td>41032</td>\n",
       "      <td>Rainforest of the Sea� foil finger paints shad...</td>\n",
       "      <td>224</td>\n",
       "      <td>Tarte Cosmetics</td>\n",
       "      <td>tarte</td>\n",
       "      <td>44</td>\n",
       "      <td>Makeup Products (non-permanent)</td>\n",
       "      <td>48</td>\n",
       "      <td>Eye Shadow</td>\n",
       "      <td>656</td>\n",
       "      <td>13463-67-7</td>\n",
       "      <td>67171</td>\n",
       "      <td>Titanium dioxide</td>\n",
       "      <td>02/10/2020</td>\n",
       "      <td>02/10/2020</td>\n",
       "      <td>MISSING</td>\n",
       "      <td>02/10/2020</td>\n",
       "      <td>02/10/2020</td>\n",
       "      <td>MISSING</td>\n",
       "      <td>1</td>\n",
       "    </tr>\n",
       "    <tr>\n",
       "      <th>112867</th>\n",
       "      <td>41032</td>\n",
       "      <td>Rainforest of the Sea� foil finger paints shad...</td>\n",
       "      <td>224</td>\n",
       "      <td>Tarte Cosmetics</td>\n",
       "      <td>tarte</td>\n",
       "      <td>44</td>\n",
       "      <td>Makeup Products (non-permanent)</td>\n",
       "      <td>48</td>\n",
       "      <td>Eye Shadow</td>\n",
       "      <td>656</td>\n",
       "      <td>13463-67-7</td>\n",
       "      <td>67171</td>\n",
       "      <td>Titanium dioxide</td>\n",
       "      <td>02/10/2020</td>\n",
       "      <td>02/10/2020</td>\n",
       "      <td>MISSING</td>\n",
       "      <td>02/10/2020</td>\n",
       "      <td>02/10/2020</td>\n",
       "      <td>MISSING</td>\n",
       "      <td>1</td>\n",
       "    </tr>\n",
       "    <tr>\n",
       "      <th>112868</th>\n",
       "      <td>41032</td>\n",
       "      <td>Rainforest of the Sea� foil finger paints shad...</td>\n",
       "      <td>224</td>\n",
       "      <td>Tarte Cosmetics</td>\n",
       "      <td>tarte</td>\n",
       "      <td>44</td>\n",
       "      <td>Makeup Products (non-permanent)</td>\n",
       "      <td>48</td>\n",
       "      <td>Eye Shadow</td>\n",
       "      <td>656</td>\n",
       "      <td>13463-67-7</td>\n",
       "      <td>67171</td>\n",
       "      <td>Titanium dioxide</td>\n",
       "      <td>02/10/2020</td>\n",
       "      <td>02/10/2020</td>\n",
       "      <td>MISSING</td>\n",
       "      <td>02/10/2020</td>\n",
       "      <td>02/10/2020</td>\n",
       "      <td>MISSING</td>\n",
       "      <td>1</td>\n",
       "    </tr>\n",
       "    <tr>\n",
       "      <th>112869</th>\n",
       "      <td>41032</td>\n",
       "      <td>Rainforest of the Sea� foil finger paints shad...</td>\n",
       "      <td>224</td>\n",
       "      <td>Tarte Cosmetics</td>\n",
       "      <td>tarte</td>\n",
       "      <td>44</td>\n",
       "      <td>Makeup Products (non-permanent)</td>\n",
       "      <td>48</td>\n",
       "      <td>Eye Shadow</td>\n",
       "      <td>656</td>\n",
       "      <td>13463-67-7</td>\n",
       "      <td>67171</td>\n",
       "      <td>Titanium dioxide</td>\n",
       "      <td>02/10/2020</td>\n",
       "      <td>02/10/2020</td>\n",
       "      <td>MISSING</td>\n",
       "      <td>02/10/2020</td>\n",
       "      <td>02/10/2020</td>\n",
       "      <td>MISSING</td>\n",
       "      <td>1</td>\n",
       "    </tr>\n",
       "  </tbody>\n",
       "</table>\n",
       "<p>56194 rows × 20 columns</p>\n",
       "</div>"
      ],
      "text/plain": [
       "        CDPHId                                        ProductName  CompanyId  \\\n",
       "6            7  ABSOLUTE Precision Color Powder System - All S...         11   \n",
       "7            7  ABSOLUTE Precision Color Powder System - All S...         11   \n",
       "8            7  ABSOLUTE Precision Color Powder System - All S...         11   \n",
       "12          12    ABSOLUTE FX Chromatones Precision Color Powders         11   \n",
       "13          12    ABSOLUTE FX Chromatones Precision Color Powders         11   \n",
       "...        ...                                                ...        ...   \n",
       "112865   41032  Rainforest of the Sea� foil finger paints shad...        224   \n",
       "112866   41032  Rainforest of the Sea� foil finger paints shad...        224   \n",
       "112867   41032  Rainforest of the Sea� foil finger paints shad...        224   \n",
       "112868   41032  Rainforest of the Sea� foil finger paints shad...        224   \n",
       "112869   41032  Rainforest of the Sea� foil finger paints shad...        224   \n",
       "\n",
       "              CompanyName BrandName  PrimaryCategoryId  \\\n",
       "6       OPI PRODUCTS INC.       OPI                 59   \n",
       "7       OPI PRODUCTS INC.       OPI                 59   \n",
       "8       OPI PRODUCTS INC.       OPI                 59   \n",
       "12      OPI PRODUCTS INC.       OPI                 59   \n",
       "13      OPI PRODUCTS INC.       OPI                 59   \n",
       "...                   ...       ...                ...   \n",
       "112865    Tarte Cosmetics     tarte                 44   \n",
       "112866    Tarte Cosmetics     tarte                 44   \n",
       "112867    Tarte Cosmetics     tarte                 44   \n",
       "112868    Tarte Cosmetics     tarte                 44   \n",
       "112869    Tarte Cosmetics     tarte                 44   \n",
       "\n",
       "                        PrimaryCategory  SubCategoryId  \\\n",
       "6                         Nail Products             60   \n",
       "7                         Nail Products             60   \n",
       "8                         Nail Products             60   \n",
       "12                        Nail Products             60   \n",
       "13                        Nail Products             60   \n",
       "...                                 ...            ...   \n",
       "112865  Makeup Products (non-permanent)             48   \n",
       "112866  Makeup Products (non-permanent)             48   \n",
       "112867  Makeup Products (non-permanent)             48   \n",
       "112868  Makeup Products (non-permanent)             48   \n",
       "112869  Makeup Products (non-permanent)             48   \n",
       "\n",
       "                                  SubCategory  CasId   CasNumber  ChemicalId  \\\n",
       "6       Artificial Nails and Related Products    656  13463-67-7       12178   \n",
       "7       Artificial Nails and Related Products    656  13463-67-7       12178   \n",
       "8       Artificial Nails and Related Products    656  13463-67-7       12178   \n",
       "12      Artificial Nails and Related Products    656  13463-67-7       17917   \n",
       "13      Artificial Nails and Related Products    656  13463-67-7       17917   \n",
       "...                                       ...    ...         ...         ...   \n",
       "112865                             Eye Shadow    656  13463-67-7       67171   \n",
       "112866                             Eye Shadow    656  13463-67-7       67171   \n",
       "112867                             Eye Shadow    656  13463-67-7       67171   \n",
       "112868                             Eye Shadow    656  13463-67-7       67171   \n",
       "112869                             Eye Shadow    656  13463-67-7       67171   \n",
       "\n",
       "            ChemicalName InitialDateReported MostRecentDateReported  \\\n",
       "6       Titanium dioxide          07/13/2009             12/30/2010   \n",
       "7       Titanium dioxide          07/13/2009             12/30/2010   \n",
       "8       Titanium dioxide          07/13/2009             12/30/2010   \n",
       "12      Titanium dioxide          07/14/2009             12/30/2010   \n",
       "13      Titanium dioxide          07/14/2009             12/30/2010   \n",
       "...                  ...                 ...                    ...   \n",
       "112865  Titanium dioxide          02/10/2020             02/10/2020   \n",
       "112866  Titanium dioxide          02/10/2020             02/10/2020   \n",
       "112867  Titanium dioxide          02/10/2020             02/10/2020   \n",
       "112868  Titanium dioxide          02/10/2020             02/10/2020   \n",
       "112869  Titanium dioxide          02/10/2020             02/10/2020   \n",
       "\n",
       "       DiscontinuedDate ChemicalCreatedAt ChemicalUpdatedAt  \\\n",
       "6               MISSING        12/04/2009        12/04/2009   \n",
       "7               MISSING        12/04/2009        12/04/2009   \n",
       "8               MISSING        12/04/2009        12/04/2009   \n",
       "12              MISSING        06/09/2010        06/09/2010   \n",
       "13              MISSING        06/09/2010        06/09/2010   \n",
       "...                 ...               ...               ...   \n",
       "112865          MISSING        02/10/2020        02/10/2020   \n",
       "112866          MISSING        02/10/2020        02/10/2020   \n",
       "112867          MISSING        02/10/2020        02/10/2020   \n",
       "112868          MISSING        02/10/2020        02/10/2020   \n",
       "112869          MISSING        02/10/2020        02/10/2020   \n",
       "\n",
       "       ChemicalDateRemoved  ChemicalCount  \n",
       "6                  MISSING              1  \n",
       "7                  MISSING              1  \n",
       "8                  MISSING              1  \n",
       "12                 MISSING              1  \n",
       "13                 MISSING              1  \n",
       "...                    ...            ...  \n",
       "112865             MISSING              1  \n",
       "112866             MISSING              1  \n",
       "112867             MISSING              1  \n",
       "112868             MISSING              1  \n",
       "112869             MISSING              1  \n",
       "\n",
       "[56194 rows x 20 columns]"
      ]
     },
     "execution_count": 27,
     "metadata": {},
     "output_type": "execute_result"
    }
   ],
   "source": [
    "#I wanted to see the duplicate rows to ensure they were duplicates. I realize looking at the duplicates that \n",
    "# removing the color/scent/flavor data will significantly impact the rest of my data. This is because each product\n",
    "# is listed again for each scent/flavor/color it comes in. I still think this was the right route to take becuase\n",
    "# these are still just one product, even if they have multiple scents/colors/flavors. Keeping all of the listings of each\n",
    "# product might skew the data becuase it would seem there are a lot more products than there are.\n",
    "df_duplicates = df[df.duplicated(keep=False)]\n",
    "\n",
    "df_duplicates"
   ]
  },
  {
   "cell_type": "code",
   "execution_count": 28,
   "metadata": {},
   "outputs": [
    {
     "data": {
      "text/plain": [
       "(63215, 20)"
      ]
     },
     "execution_count": 28,
     "metadata": {},
     "output_type": "execute_result"
    }
   ],
   "source": [
    "#Dropping duplicates and checking to ensure they were dropped from the dataset by shwoing the shape.\n",
    "df = df.drop_duplicates()\n",
    "df.shape"
   ]
  },
  {
   "cell_type": "markdown",
   "metadata": {
    "azdata_cell_guid": "53e0cf94-c68a-4fa0-9849-9505a66bcce6"
   },
   "source": [
    "## Inconsistent Data\n",
    "\n",
    "Check for inconsistent data and address any that arises. As always, use code comments to illustrate your thought process."
   ]
  },
  {
   "cell_type": "markdown",
   "metadata": {},
   "source": [
    "##Changing the formatting of columns with string data to lowercase and checking to ensure there were no duplicate values after changing the formatting."
   ]
  },
  {
   "cell_type": "code",
   "execution_count": 29,
   "metadata": {},
   "outputs": [
    {
     "data": {
      "text/plain": [
       "count            63215\n",
       "unique           33267\n",
       "top       Nail Lacquer\n",
       "freq               492\n",
       "Name: ProductName, dtype: object"
      ]
     },
     "execution_count": 29,
     "metadata": {},
     "output_type": "execute_result"
    }
   ],
   "source": [
    "df['ProductName'].describe()"
   ]
  },
  {
   "cell_type": "code",
   "execution_count": 30,
   "metadata": {
    "azdata_cell_guid": "e9de6624-812a-43f8-8e20-93b4a49b091f"
   },
   "outputs": [
    {
     "data": {
      "text/plain": [
       "count            63215\n",
       "unique           33004\n",
       "top       nail lacquer\n",
       "freq               493\n",
       "Name: ProductName, dtype: object"
      ]
     },
     "execution_count": 30,
     "metadata": {},
     "output_type": "execute_result"
    }
   ],
   "source": [
    "df['ProductName'] = df['ProductName'].str.lower()\n",
    "df['ProductName'].describe()"
   ]
  },
  {
   "cell_type": "code",
   "execution_count": 31,
   "metadata": {},
   "outputs": [
    {
     "data": {
      "text/plain": [
       "count                            63215\n",
       "unique                             601\n",
       "top       The Procter & Gamble Company\n",
       "freq                              3392\n",
       "Name: CompanyName, dtype: object"
      ]
     },
     "execution_count": 31,
     "metadata": {},
     "output_type": "execute_result"
    }
   ],
   "source": [
    "df['CompanyName'].describe()"
   ]
  },
  {
   "cell_type": "code",
   "execution_count": 32,
   "metadata": {},
   "outputs": [
    {
     "data": {
      "text/plain": [
       "count                            63215\n",
       "unique                             599\n",
       "top       the procter & gamble company\n",
       "freq                              3392\n",
       "Name: CompanyName, dtype: object"
      ]
     },
     "execution_count": 32,
     "metadata": {},
     "output_type": "execute_result"
    }
   ],
   "source": [
    "df['CompanyName'] = df['CompanyName'].str.lower()\n",
    "df['CompanyName'].describe()"
   ]
  },
  {
   "cell_type": "code",
   "execution_count": 33,
   "metadata": {},
   "outputs": [
    {
     "data": {
      "text/plain": [
       "count     63133\n",
       "unique     2683\n",
       "top       tarte\n",
       "freq       1769\n",
       "Name: BrandName, dtype: object"
      ]
     },
     "execution_count": 33,
     "metadata": {},
     "output_type": "execute_result"
    }
   ],
   "source": [
    "df['BrandName'].describe()"
   ]
  },
  {
   "cell_type": "code",
   "execution_count": 34,
   "metadata": {},
   "outputs": [
    {
     "data": {
      "text/plain": [
       "count     63133\n",
       "unique     2515\n",
       "top       tarte\n",
       "freq       1913\n",
       "Name: BrandName, dtype: object"
      ]
     },
     "execution_count": 34,
     "metadata": {},
     "output_type": "execute_result"
    }
   ],
   "source": [
    "df['BrandName'] = df['BrandName'].str.lower()\n",
    "df['BrandName'].describe()"
   ]
  },
  {
   "cell_type": "code",
   "execution_count": 35,
   "metadata": {},
   "outputs": [
    {
     "data": {
      "text/plain": [
       "Makeup Products (non-permanent)      36759\n",
       "Nail Products                         9912\n",
       "Skin Care Products                    6623\n",
       "Bath Products                         2767\n",
       "Sun-Related Products                  2434\n",
       "Hair Care Products (non-coloring)     1501\n",
       "Hair Coloring Products                1064\n",
       "Fragrances                             506\n",
       "Personal Care Products                 485\n",
       "Oral Hygiene Products                  481\n",
       "Tattoos and Permanent Makeup           425\n",
       "Shaving Products                       209\n",
       "Baby Products                           49\n",
       "Name: PrimaryCategory, dtype: int64"
      ]
     },
     "execution_count": 35,
     "metadata": {},
     "output_type": "execute_result"
    }
   ],
   "source": [
    "#This columns did not need to be formatting differently because there were only 13 values.\n",
    "df['PrimaryCategory'].value_counts()"
   ]
  },
  {
   "cell_type": "code",
   "execution_count": 36,
   "metadata": {},
   "outputs": [
    {
     "data": {
      "text/plain": [
       "count                63215\n",
       "unique                 123\n",
       "top       Titanium dioxide\n",
       "freq                 50316\n",
       "Name: ChemicalName, dtype: object"
      ]
     },
     "execution_count": 36,
     "metadata": {},
     "output_type": "execute_result"
    }
   ],
   "source": [
    "df['ChemicalName'].describe()"
   ]
  },
  {
   "cell_type": "code",
   "execution_count": 37,
   "metadata": {},
   "outputs": [
    {
     "data": {
      "text/plain": [
       "count                63215\n",
       "unique                 123\n",
       "top       titanium dioxide\n",
       "freq                 50316\n",
       "Name: ChemicalName, dtype: object"
      ]
     },
     "execution_count": 37,
     "metadata": {},
     "output_type": "execute_result"
    }
   ],
   "source": [
    "df['ChemicalName'] = df['ChemicalName'].str.lower()\n",
    "df['ChemicalName'].describe()"
   ]
  },
  {
   "cell_type": "code",
   "execution_count": 40,
   "metadata": {},
   "outputs": [
    {
     "data": {
      "text/plain": [
       "(63215, 20)"
      ]
     },
     "execution_count": 40,
     "metadata": {},
     "output_type": "execute_result"
    }
   ],
   "source": [
    "#Checking for dupliactes in dataset after fixing formatting\n",
    "df.shape"
   ]
  },
  {
   "cell_type": "code",
   "execution_count": 41,
   "metadata": {},
   "outputs": [
    {
     "data": {
      "text/html": [
       "<div>\n",
       "<style scoped>\n",
       "    .dataframe tbody tr th:only-of-type {\n",
       "        vertical-align: middle;\n",
       "    }\n",
       "\n",
       "    .dataframe tbody tr th {\n",
       "        vertical-align: top;\n",
       "    }\n",
       "\n",
       "    .dataframe thead th {\n",
       "        text-align: right;\n",
       "    }\n",
       "</style>\n",
       "<table border=\"1\" class=\"dataframe\">\n",
       "  <thead>\n",
       "    <tr style=\"text-align: right;\">\n",
       "      <th></th>\n",
       "      <th>CDPHId</th>\n",
       "      <th>ProductName</th>\n",
       "      <th>CompanyId</th>\n",
       "      <th>CompanyName</th>\n",
       "      <th>BrandName</th>\n",
       "      <th>PrimaryCategoryId</th>\n",
       "      <th>PrimaryCategory</th>\n",
       "      <th>SubCategoryId</th>\n",
       "      <th>SubCategory</th>\n",
       "      <th>CasId</th>\n",
       "      <th>CasNumber</th>\n",
       "      <th>ChemicalId</th>\n",
       "      <th>ChemicalName</th>\n",
       "      <th>InitialDateReported</th>\n",
       "      <th>MostRecentDateReported</th>\n",
       "      <th>DiscontinuedDate</th>\n",
       "      <th>ChemicalCreatedAt</th>\n",
       "      <th>ChemicalUpdatedAt</th>\n",
       "      <th>ChemicalDateRemoved</th>\n",
       "      <th>ChemicalCount</th>\n",
       "    </tr>\n",
       "  </thead>\n",
       "  <tbody>\n",
       "  </tbody>\n",
       "</table>\n",
       "</div>"
      ],
      "text/plain": [
       "Empty DataFrame\n",
       "Columns: [CDPHId, ProductName, CompanyId, CompanyName, BrandName, PrimaryCategoryId, PrimaryCategory, SubCategoryId, SubCategory, CasId, CasNumber, ChemicalId, ChemicalName, InitialDateReported, MostRecentDateReported, DiscontinuedDate, ChemicalCreatedAt, ChemicalUpdatedAt, ChemicalDateRemoved, ChemicalCount]\n",
       "Index: []"
      ]
     },
     "execution_count": 41,
     "metadata": {},
     "output_type": "execute_result"
    }
   ],
   "source": [
    "#checking for duplicates again after changing the formatting.\n",
    "df_duplicates = df[df.duplicated(keep=False)]\n",
    "\n",
    "df_duplicates"
   ]
  },
  {
   "cell_type": "code",
   "execution_count": 46,
   "metadata": {},
   "outputs": [],
   "source": [
    "df.to_csv('ChemicalsInCosmeticsClean.csv')"
   ]
  },
  {
   "cell_type": "markdown",
   "metadata": {
    "azdata_cell_guid": "dedc0bfe-17d0-40b2-914f-2ddb54f9ce0d"
   },
   "source": [
    "## Summarize Your Results\n",
    "\n",
    "Make note of your answers to the following questions.\n",
    "\n",
    "1. Did you find all four types of dirty data in your dataset?\n",
    "I found Null values in 4 columns. I deleted the CSFId and CSF columns becuase I don't need the color/scent/flavor in my analysis since the chemical is the same accross all color/scents/flavors in most products. I filled the DateDiscontinued, DateChemicalRemoved, and CasNumber null values with \"MISSING\" becuase I need the information from these columns.\n",
    "2. Did the process of cleaning your data give you new insights into your dataset?\n",
    "Yes, cleaning my data gave me insight into how each product was listed in the data. I found that nearly half of my data was duplicates becuase they were listed each color/scent/flavor of a product as a seperate product. I removed these duplicates becuase I felt it would skew the data if these were all counted seperately, especially becuase the chemical used in all of the flavors/scents/colors was the same. \n",
    "3. Is there anything you would like to make note of when it comes to manipulating the data and making visualizations?\n",
    "I would like to make note that Null values are now 'MISSING'. By reading further about my dataset on Kaggle, and checking chemicals with government websites, I found that all chemicals listed are either hazardous or potentially hazardous chemicals, so there is no need to research each chemical further."
   ]
  }
 ],
 "metadata": {
  "kernelspec": {
   "display_name": "Python 3 (ipykernel)",
   "language": "python",
   "name": "python3"
  },
  "language_info": {
   "codemirror_mode": {
    "name": "ipython",
    "version": 3
   },
   "file_extension": ".py",
   "mimetype": "text/x-python",
   "name": "python",
   "nbconvert_exporter": "python",
   "pygments_lexer": "ipython3",
   "version": "3.10.9"
  }
 },
 "nbformat": 4,
 "nbformat_minor": 2
}
